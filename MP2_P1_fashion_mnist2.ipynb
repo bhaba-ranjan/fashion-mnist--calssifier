{
 "cells": [
  {
   "cell_type": "markdown",
   "metadata": {},
   "source": [
    "# Assignment 3 : Image Classification on Fashion MNIST"
   ]
  },
  {
   "cell_type": "code",
   "execution_count": 35,
   "metadata": {},
   "outputs": [
    {
     "name": "stdout",
     "output_type": "stream",
     "text": [
      "The autoreload extension is already loaded. To reload it, use:\n",
      "  %reload_ext autoreload\n"
     ]
    }
   ],
   "source": [
    "import os\n",
    "import numpy as np\n",
    "import torch\n",
    "import torch.nn as nn\n",
    "from torchvision import transforms\n",
    "from sklearn.metrics import average_precision_score\n",
    "from PIL import Image, ImageDraw\n",
    "import matplotlib.pyplot as plt\n",
    "from kaggle_submission import output_submission_csv\n",
    "from classifier import Classifier\n",
    "from fashion_mnist_dataloader import fashion_mnist_dataset, load_mnist, FASHION_MNIST_CLASSES\n",
    "\n",
    "\n",
    "%matplotlib inline\n",
    "%load_ext autoreload\n",
    "%autoreload 2"
   ]
  },
  {
   "cell_type": "markdown",
   "metadata": {},
   "source": [
    "In this assignment, you train a classifier to do classificaton on the Fashion-MNIST dataset. The dataset has 10 different class which can appear in any given image. Your classifier will predict whether each class appears in an image. This task is like the ImageNet competition where only a single most appropriate class is predicted for an image."
   ]
  },
  {
   "cell_type": "markdown",
   "metadata": {},
   "source": [
    "### Loading Training Data"
   ]
  },
  {
   "cell_type": "markdown",
   "metadata": {},
   "source": [
    "In the following cell we will load the training data and also apply some transforms to the data. Feel free to apply more [transforms](https://pytorch.org/docs/stable/torchvision/transforms.html) for data augmentation which can lead to better performance. "
   ]
  },
  {
   "cell_type": "code",
   "execution_count": 36,
   "metadata": {},
   "outputs": [],
   "source": [
    "# Transforms applied to the training data\n",
    "normalize = transforms.Normalize(mean=[0.485, 0.456, 0.406],\n",
    "                                     std= [0.229, 0.224, 0.225])\n",
    "\n",
    "train_transform = transforms.Compose([\n",
    "            transforms.Resize(227),\n",
    "            transforms.CenterCrop(227),\n",
    "            transforms.ToTensor(),\n",
    "            normalize\n",
    "        ])\n"
   ]
  },
  {
   "cell_type": "code",
   "execution_count": 37,
   "metadata": {},
   "outputs": [
    {
     "data": {
      "text/plain": [
       "50000"
      ]
     },
     "execution_count": 37,
     "metadata": {},
     "output_type": "execute_result"
    }
   ],
   "source": [
    "ds_train = fashion_mnist_dataset('train', train_transform)\n",
    "len(ds_train)"
   ]
  },
  {
   "cell_type": "markdown",
   "metadata": {},
   "source": [
    "### Loading Validation Data"
   ]
  },
  {
   "cell_type": "markdown",
   "metadata": {},
   "source": [
    "We will load the test data for the Fashion-MNIST dataset. Do __NOT__ add data augmentation transforms to validation data."
   ]
  },
  {
   "cell_type": "code",
   "execution_count": 38,
   "metadata": {},
   "outputs": [],
   "source": [
    "# Transforms applied to the testing data\n",
    "test_transform = transforms.Compose([\n",
    "            transforms.Resize(227),\n",
    "            transforms.CenterCrop(227),\n",
    "            transforms.ToTensor(),\n",
    "            normalize,\n",
    "        ])"
   ]
  },
  {
   "cell_type": "code",
   "execution_count": 39,
   "metadata": {},
   "outputs": [
    {
     "data": {
      "text/plain": [
       "10000"
      ]
     },
     "execution_count": 39,
     "metadata": {},
     "output_type": "execute_result"
    }
   ],
   "source": [
    "ds_val = fashion_mnist_dataset('val', test_transform)\n",
    "len(ds_val)"
   ]
  },
  {
   "cell_type": "markdown",
   "metadata": {},
   "source": [
    "### Visualizing the Data\n",
    "\n",
    " Use the following code to visualize some random examples and corresponding annotations from the train set. "
   ]
  },
  {
   "cell_type": "code",
   "execution_count": 40,
   "metadata": {},
   "outputs": [
    {
     "data": {
      "image/png": "[encoded data removed]",
      "text/plain": [
       "<Figure size 144x144 with 1 Axes>"
      ]
     },
     "metadata": {
      "needs_background": "light"
     },
     "output_type": "display_data"
    },
    {
     "data": {
      "image/png": "[encoded data removed]",
      "text/plain": [
       "<Figure size 144x144 with 1 Axes>"
      ]
     },
     "metadata": {
      "needs_background": "light"
     },
     "output_type": "display_data"
    },
    {
     "data": {
      "image/png": "[encoded data removed]",
      "text/plain": [
       "<Figure size 144x144 with 1 Axes>"
      ]
     },
     "metadata": {
      "needs_background": "light"
     },
     "output_type": "display_data"
    },
    {
     "data": {
      "image/png": "[encoded data removed]",
      "text/plain": [
       "<Figure size 144x144 with 1 Axes>"
      ]
     },
     "metadata": {
      "needs_background": "light"
     },
     "output_type": "display_data"
    },
    {
     "data": {
      "image/png": "[encoded data removed]",
      "text/plain": [
       "<Figure size 144x144 with 1 Axes>"
      ]
     },
     "metadata": {
      "needs_background": "light"
     },
     "output_type": "display_data"
    }
   ],
   "source": [
    "X_train, Y_train = load_mnist('fashion-mnist', kind='train')\n",
    "mask = list(range(len(ds_train)))\n",
    "X_train = X_train[mask]\n",
    "\n",
    "for i in range(5):\n",
    "    idx = np.random.randint(0, len(ds_train))\n",
    "    img, label = X_train[idx], Y_train[idx]\n",
    "    img = img.reshape((28, 28))\n",
    "    plt.figure(figsize = (2,2))\n",
    "    plt.title(f'{FASHION_MNIST_CLASSES[label]}')\n",
    "    plt.imshow(img)"
   ]
  },
  {
   "cell_type": "markdown",
   "metadata": {},
   "source": [
    "# Classification"
   ]
  },
  {
   "cell_type": "code",
   "execution_count": 41,
   "metadata": {},
   "outputs": [],
   "source": [
    "device = torch.device(\"cuda:0\" if torch.cuda.is_available() else \"cpu\")"
   ]
  },
  {
   "cell_type": "code",
   "execution_count": 42,
   "metadata": {},
   "outputs": [
    {
     "data": {
      "text/plain": [
       "device(type='cuda', index=0)"
      ]
     },
     "execution_count": 42,
     "metadata": {},
     "output_type": "execute_result"
    }
   ],
   "source": [
    "device"
   ]
  },
  {
   "cell_type": "code",
   "execution_count": 43,
   "metadata": {},
   "outputs": [],
   "source": [
    "train_loader = torch.utils.data.DataLoader(dataset=ds_train,\n",
    "                                               batch_size=64, \n",
    "                                               shuffle=True,\n",
    "                                               num_workers=1)"
   ]
  },
  {
   "cell_type": "code",
   "execution_count": 44,
   "metadata": {},
   "outputs": [],
   "source": [
    "val_loader = torch.utils.data.DataLoader(dataset=ds_val,\n",
    "                                               batch_size=5, \n",
    "                                               shuffle=False,\n",
    "                                               num_workers=1)"
   ]
  },
  {
   "cell_type": "code",
   "execution_count": 45,
   "metadata": {},
   "outputs": [],
   "source": [
    "def train_classifier(train_loader, classifier, criterion, optimizer):\n",
    "    classifier.train()\n",
    "    loss_ = 0.0\n",
    "    losses = []\n",
    "    losses_plot = []\n",
    "    for i, (images, labels) in enumerate(train_loader):\n",
    "        images, labels = images.to(device), labels.to(device)\n",
    "        optimizer.zero_grad()\n",
    "        logits = classifier(images)\n",
    "        loss = criterion(logits, labels)\n",
    "        loss.backward()\n",
    "        optimizer.step()\n",
    "        losses.append(loss)\n",
    "        losses_plot.append(loss.detach().item())\n",
    "\n",
    "    return torch.stack(losses).mean().item(), losses_plot"
   ]
  },
  {
   "cell_type": "code",
   "execution_count": 46,
   "metadata": {},
   "outputs": [],
   "source": [
    "def test_classifier(test_loader, classifier, criterion, print_ind_classes=True):\n",
    "    classifier.eval()\n",
    "    losses = []\n",
    "    with torch.no_grad():\n",
    "        y_true = np.zeros((0))\n",
    "        y_score = np.zeros((0,10))\n",
    "        for i, (images, labels) in enumerate(test_loader):\n",
    "            images, labels = images.to(device), labels.to(device)\n",
    "            logits = classifier(images)\n",
    "            y_true = np.concatenate((y_true, labels.cpu().numpy()), axis=0)\n",
    "            y_score = np.concatenate((y_score, logits.cpu().numpy()), axis=0)\n",
    "            loss = criterion(logits, labels)\n",
    "            losses.append(loss.item())\n",
    "        aps = []\n",
    "        \n",
    "        B = y_true.shape[0]\n",
    "        y_true_one_hot = np.zeros((B, 10))\n",
    "        y_true_one_hot[np.arange(B), y_true.astype(np.int16)] = 1\n",
    "\n",
    "        for i in range(10):\n",
    "            ap = average_precision_score(y_true_one_hot[:, i], y_score[:, i])\n",
    "            if print_ind_classes:\n",
    "                print(f'-------  Class: {i}     AP: {ap:>8.4f}  -------')\n",
    "            aps.append(ap)\n",
    "        \n",
    "        mAP = np.mean(aps)\n",
    "        test_loss = np.mean(losses)\n",
    "        print('mAP: {0:.4f}'.format(mAP))\n",
    "        print('Avg loss: {}'.format(test_loss))\n",
    "        \n",
    "    return mAP, test_loss, aps"
   ]
  },
  {
   "cell_type": "markdown",
   "metadata": {},
   "source": [
    "## Modifying the network \n",
    "\n",
    "You are given couple network architectures (fully connected and convolutional). The goal of this assignment is to run the model of three architectures of your choice and repor the performance. In the results. \n",
    "There are a variety of different approaches you should try:\n",
    "\n",
    "* Network architecture changes\n",
    "* Number of layers: try adding layers to make your network deeper\n",
    "\n",
    "\n"
   ]
  },
  {
   "cell_type": "code",
   "execution_count": 47,
   "metadata": {},
   "outputs": [],
   "source": [
    "classifier = Classifier().to(device)\n",
    "# You can can use this function to reload a network you have already saved previously\n",
    "#classifier.load_state_dict(torch.load('voc_classifier.pth'))"
   ]
  },
  {
   "cell_type": "code",
   "execution_count": 48,
   "metadata": {},
   "outputs": [],
   "source": [
    "criterion = nn.CrossEntropyLoss()\n",
    "optimizer = torch.optim.Adam(classifier.parameters(), lr=0.0001)"
   ]
  },
  {
   "cell_type": "code",
   "execution_count": 49,
   "metadata": {},
   "outputs": [
    {
     "name": "stdout",
     "output_type": "stream",
     "text": [
      "Starting epoch number 1\n",
      "Loss for Training on Epoch 1 is 1.1630288362503052\n",
      "Starting epoch number 2\n",
      "Loss for Training on Epoch 2 is 0.5578681230545044\n",
      "-------  Class: 0     AP:   0.7776  -------\n",
      "-------  Class: 1     AP:   0.9861  -------\n",
      "-------  Class: 2     AP:   0.5712  -------\n",
      "-------  Class: 3     AP:   0.9188  -------\n",
      "-------  Class: 4     AP:   0.6428  -------\n",
      "-------  Class: 5     AP:   0.9268  -------\n",
      "-------  Class: 6     AP:   0.2799  -------\n",
      "-------  Class: 7     AP:   0.8939  -------\n",
      "-------  Class: 8     AP:   0.9653  -------\n",
      "-------  Class: 9     AP:   0.9729  -------\n",
      "mAP: 0.7935\n",
      "Avg loss: 0.4926595148987835\n",
      "Evaluating classifier\n",
      "Mean Precision Score for Testing on Epoch 2 is 0.7935127344109167\n",
      "Starting epoch number 3\n",
      "Loss for Training on Epoch 3 is 0.4508821964263916\n",
      "Starting epoch number 4\n",
      "Loss for Training on Epoch 4 is 0.4003704786300659\n",
      "-------  Class: 0     AP:   0.8193  -------\n",
      "-------  Class: 1     AP:   0.9884  -------\n",
      "-------  Class: 2     AP:   0.6717  -------\n",
      "-------  Class: 3     AP:   0.9274  -------\n",
      "-------  Class: 4     AP:   0.7070  -------\n",
      "-------  Class: 5     AP:   0.9502  -------\n",
      "-------  Class: 6     AP:   0.3880  -------\n",
      "-------  Class: 7     AP:   0.9264  -------\n",
      "-------  Class: 8     AP:   0.9746  -------\n",
      "-------  Class: 9     AP:   0.9865  -------\n",
      "mAP: 0.8340\n",
      "Avg loss: 0.39636328605859306\n",
      "Evaluating classifier\n",
      "Mean Precision Score for Testing on Epoch 4 is 0.8339506640003753\n",
      "Starting epoch number 5\n",
      "Loss for Training on Epoch 5 is 0.3685784339904785\n",
      "Starting epoch number 6\n",
      "Loss for Training on Epoch 6 is 0.3463512063026428\n",
      "-------  Class: 0     AP:   0.8378  -------\n",
      "-------  Class: 1     AP:   0.9890  -------\n",
      "-------  Class: 2     AP:   0.7252  -------\n",
      "-------  Class: 3     AP:   0.9314  -------\n",
      "-------  Class: 4     AP:   0.7231  -------\n",
      "-------  Class: 5     AP:   0.9580  -------\n",
      "-------  Class: 6     AP:   0.4573  -------\n",
      "-------  Class: 7     AP:   0.9297  -------\n",
      "-------  Class: 8     AP:   0.9772  -------\n",
      "-------  Class: 9     AP:   0.9891  -------\n",
      "mAP: 0.8518\n",
      "Avg loss: 0.3584077814752818\n",
      "Evaluating classifier\n",
      "Mean Precision Score for Testing on Epoch 6 is 0.8517870314813145\n",
      "Starting epoch number 7\n",
      "Loss for Training on Epoch 7 is 0.3300112187862396\n",
      "Starting epoch number 8\n",
      "Loss for Training on Epoch 8 is 0.31504592299461365\n",
      "-------  Class: 0     AP:   0.8443  -------\n",
      "-------  Class: 1     AP:   0.9906  -------\n",
      "-------  Class: 2     AP:   0.7514  -------\n",
      "-------  Class: 3     AP:   0.9362  -------\n",
      "-------  Class: 4     AP:   0.7353  -------\n",
      "-------  Class: 5     AP:   0.9708  -------\n",
      "-------  Class: 6     AP:   0.5059  -------\n",
      "-------  Class: 7     AP:   0.9442  -------\n",
      "-------  Class: 8     AP:   0.9807  -------\n",
      "-------  Class: 9     AP:   0.9899  -------\n",
      "mAP: 0.8649\n",
      "Avg loss: 0.3350809546918026\n",
      "Evaluating classifier\n",
      "Mean Precision Score for Testing on Epoch 8 is 0.8649131996987431\n",
      "Starting epoch number 9\n",
      "Loss for Training on Epoch 9 is 0.3040323853492737\n",
      "Starting epoch number 10\n",
      "Loss for Training on Epoch 10 is 0.2943420112133026\n",
      "-------  Class: 0     AP:   0.8465  -------\n",
      "-------  Class: 1     AP:   0.9910  -------\n",
      "-------  Class: 2     AP:   0.7571  -------\n",
      "-------  Class: 3     AP:   0.9358  -------\n",
      "-------  Class: 4     AP:   0.7387  -------\n",
      "-------  Class: 5     AP:   0.9699  -------\n",
      "-------  Class: 6     AP:   0.5270  -------\n",
      "-------  Class: 7     AP:   0.9455  -------\n",
      "-------  Class: 8     AP:   0.9833  -------\n",
      "-------  Class: 9     AP:   0.9888  -------\n",
      "mAP: 0.8683\n",
      "Avg loss: 0.3216484884163801\n",
      "Evaluating classifier\n",
      "Mean Precision Score for Testing on Epoch 10 is 0.8683442103247921\n",
      "Starting epoch number 11\n",
      "Loss for Training on Epoch 11 is 0.2855609357357025\n",
      "Starting epoch number 12\n",
      "Loss for Training on Epoch 12 is 0.2770923972129822\n",
      "-------  Class: 0     AP:   0.8533  -------\n",
      "-------  Class: 1     AP:   0.9917  -------\n",
      "-------  Class: 2     AP:   0.7650  -------\n",
      "-------  Class: 3     AP:   0.9414  -------\n",
      "-------  Class: 4     AP:   0.7470  -------\n",
      "-------  Class: 5     AP:   0.9785  -------\n",
      "-------  Class: 6     AP:   0.5505  -------\n",
      "-------  Class: 7     AP:   0.9481  -------\n",
      "-------  Class: 8     AP:   0.9852  -------\n",
      "-------  Class: 9     AP:   0.9897  -------\n",
      "mAP: 0.8750\n",
      "Avg loss: 0.31223646845223263\n",
      "Evaluating classifier\n",
      "Mean Precision Score for Testing on Epoch 12 is 0.8750265258938953\n",
      "Starting epoch number 13\n",
      "Loss for Training on Epoch 13 is 0.26962894201278687\n",
      "Starting epoch number 14\n",
      "Loss for Training on Epoch 14 is 0.26408737897872925\n",
      "-------  Class: 0     AP:   0.8493  -------\n",
      "-------  Class: 1     AP:   0.9923  -------\n",
      "-------  Class: 2     AP:   0.7565  -------\n",
      "-------  Class: 3     AP:   0.9393  -------\n",
      "-------  Class: 4     AP:   0.7568  -------\n",
      "-------  Class: 5     AP:   0.9770  -------\n",
      "-------  Class: 6     AP:   0.5625  -------\n",
      "-------  Class: 7     AP:   0.9457  -------\n",
      "-------  Class: 8     AP:   0.9860  -------\n",
      "-------  Class: 9     AP:   0.9889  -------\n",
      "mAP: 0.8754\n",
      "Avg loss: 0.31014844332025676\n",
      "Evaluating classifier\n",
      "Mean Precision Score for Testing on Epoch 14 is 0.8754410414797416\n"
     ]
    }
   ],
   "source": [
    "# Training the Classifier\n",
    "NUM_EPOCHS = 14\n",
    "TEST_FREQUENCY = 2\n",
    "mAp = []\n",
    "loss = []\n",
    "curr_val = -1\n",
    "best_model = []\n",
    "\n",
    "for epoch in range(1, NUM_EPOCHS+1):\n",
    "    print(\"Starting epoch number \" + str(epoch))\n",
    "    train_loss, losses = train_classifier(train_loader, classifier, criterion, optimizer)\n",
    "    print(\"Loss for Training on Epoch \" +str(epoch) + \" is \"+ str(train_loss))\n",
    "    if(epoch%TEST_FREQUENCY==0):\n",
    "        mAP_val, val_loss, _ = test_classifier(val_loader, classifier, criterion)\n",
    "\n",
    "        if curr_val < mAP_val:\n",
    "            curr_val = mAP_val\n",
    "            best_model = classifier\n",
    "        print('Evaluating classifier')\n",
    "        print(\"Mean Precision Score for Testing on Epoch \" +str(epoch) + \" is \"+ str(mAP_val))\n",
    "        "
   ]
  },
  {
   "cell_type": "code",
   "execution_count": 50,
   "metadata": {},
   "outputs": [],
   "source": [
    "# Save the clssifier network\n",
    "# Suggestion: you can save checkpoints of your network during training and reload them later\n",
    "torch.save(classifier.state_dict(), './fashion_mnist_classifier.pth')"
   ]
  },
  {
   "cell_type": "markdown",
   "metadata": {},
   "source": [
    "# Evaluate on test set\n",
    "\n"
   ]
  },
  {
   "cell_type": "code",
   "execution_count": 51,
   "metadata": {},
   "outputs": [
    {
     "name": "stdout",
     "output_type": "stream",
     "text": [
      "-------  Class: 0     AP:   0.8342  -------\n",
      "-------  Class: 1     AP:   0.9949  -------\n",
      "-------  Class: 2     AP:   0.7635  -------\n",
      "-------  Class: 3     AP:   0.9335  -------\n",
      "-------  Class: 4     AP:   0.7381  -------\n",
      "-------  Class: 5     AP:   0.9809  -------\n",
      "-------  Class: 6     AP:   0.5420  -------\n",
      "-------  Class: 7     AP:   0.9557  -------\n",
      "-------  Class: 8     AP:   0.9868  -------\n",
      "-------  Class: 9     AP:   0.9867  -------\n",
      "mAP: 0.8716\n",
      "Avg loss: 0.32221115197986366\n"
     ]
    }
   ],
   "source": [
    "ds_test = fashion_mnist_dataset('test', test_transform)\n",
    "\n",
    "test_loader = torch.utils.data.DataLoader(dataset=ds_test,\n",
    "                                               batch_size=50, \n",
    "                                               shuffle=False,\n",
    "                                               num_workers=1)\n",
    "\n",
    "mAP_test, test_loss, test_aps = test_classifier(test_loader, classifier, criterion)"
   ]
  },
  {
   "cell_type": "code",
   "execution_count": 90,
   "metadata": {},
   "outputs": [],
   "source": [
    "output_submission_csv('my_solution.csv', test_aps)"
   ]
  }
 ],
 "metadata": {
  "kernelspec": {
   "display_name": "Python 3 (ORC)",
   "language": "python",
   "name": "sys_python3"
  },
  "language_info": {
   "codemirror_mode": {
    "name": "ipython",
    "version": 3
   },
   "file_extension": ".py",
   "mimetype": "text/x-python",
   "name": "python",
   "nbconvert_exporter": "python",
   "pygments_lexer": "ipython3",
   "version": "3.9.9"
  },
  "vscode": {
   "interpreter": {
    "hash": "a56fbc4ce81ac77ce09ed64d30142ca76a6cd6434d22ac4d931d633d2bbfd088"
   }
  }
 },
 "nbformat": 4,
 "nbformat_minor": 1
}
